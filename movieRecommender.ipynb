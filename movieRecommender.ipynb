{
 "cells": [
  {
   "cell_type": "code",
   "execution_count": 2,
   "metadata": {},
   "outputs": [
    {
     "name": "stderr",
     "output_type": "stream",
     "text": [
      "C:\\Users\\alfem\\AppData\\Local\\Packages\\PythonSoftwareFoundation.Python.3.8_qbz5n2kfra8p0\\LocalCache\\local-packages\\Python38\\site-packages\\tqdm\\auto.py:21: TqdmWarning: IProgress not found. Please update jupyter and ipywidgets. See https://ipywidgets.readthedocs.io/en/stable/user_install.html\n",
      "  from .autonotebook import tqdm as notebook_tqdm\n"
     ]
    }
   ],
   "source": [
    "import pandas as pd # type: ignore\n",
    "import matplotlib.pyplot as plt\n",
    "import numpy as np\n",
    "from sklearn.neighbors import KNeighborsClassifier\n",
    "from scipy.sparse import csr_matrix\n",
    "import implicit\n",
    "from sklearn.metrics import mean_squared_error\n",
    "from sklearn.model_selection import train_test_split\n",
    "from sklearn.model_selection import KFold"
   ]
  },
  {
   "cell_type": "code",
   "execution_count": 4,
   "metadata": {},
   "outputs": [
    {
     "ename": "FileNotFoundError",
     "evalue": "[Errno 2] No such file or directory: 'ratings.csv'",
     "output_type": "error",
     "traceback": [
      "\u001b[1;31m---------------------------------------------------------------------------\u001b[0m",
      "\u001b[1;31mFileNotFoundError\u001b[0m                         Traceback (most recent call last)",
      "Cell \u001b[1;32mIn[4], line 2\u001b[0m\n\u001b[0;32m      1\u001b[0m \u001b[38;5;66;03m# Load the ratings dataset\u001b[39;00m\n\u001b[1;32m----> 2\u001b[0m ratings_df \u001b[38;5;241m=\u001b[39m \u001b[43mpd\u001b[49m\u001b[38;5;241;43m.\u001b[39;49m\u001b[43mread_csv\u001b[49m\u001b[43m(\u001b[49m\u001b[38;5;124;43m'\u001b[39;49m\u001b[38;5;124;43mratings.csv\u001b[39;49m\u001b[38;5;124;43m'\u001b[39;49m\u001b[43m,\u001b[49m\u001b[43m \u001b[49m\n\u001b[0;32m      3\u001b[0m \u001b[43m                         \u001b[49m\u001b[43msep\u001b[49m\u001b[38;5;241;43m=\u001b[39;49m\u001b[38;5;124;43m'\u001b[39;49m\u001b[38;5;124;43m::\u001b[39;49m\u001b[38;5;124;43m'\u001b[39;49m\u001b[43m,\u001b[49m\u001b[43m \u001b[49m\n\u001b[0;32m      4\u001b[0m \u001b[43m                         \u001b[49m\u001b[43mnames\u001b[49m\u001b[38;5;241;43m=\u001b[39;49m\u001b[43m[\u001b[49m\u001b[38;5;124;43m'\u001b[39;49m\u001b[38;5;124;43mUserID\u001b[39;49m\u001b[38;5;124;43m'\u001b[39;49m\u001b[43m,\u001b[49m\u001b[43m \u001b[49m\u001b[38;5;124;43m'\u001b[39;49m\u001b[38;5;124;43mMovieID\u001b[39;49m\u001b[38;5;124;43m'\u001b[39;49m\u001b[43m,\u001b[49m\u001b[43m \u001b[49m\u001b[38;5;124;43m'\u001b[39;49m\u001b[38;5;124;43mRating\u001b[39;49m\u001b[38;5;124;43m'\u001b[39;49m\u001b[43m,\u001b[49m\u001b[43m \u001b[49m\u001b[38;5;124;43m'\u001b[39;49m\u001b[38;5;124;43mTimestamp\u001b[39;49m\u001b[38;5;124;43m'\u001b[39;49m\u001b[43m]\u001b[49m\u001b[43m,\u001b[49m\u001b[43m \u001b[49m\n\u001b[0;32m      5\u001b[0m \u001b[43m                         \u001b[49m\u001b[43mengine\u001b[49m\u001b[38;5;241;43m=\u001b[39;49m\u001b[38;5;124;43m'\u001b[39;49m\u001b[38;5;124;43mpython\u001b[39;49m\u001b[38;5;124;43m'\u001b[39;49m\u001b[43m)\u001b[49m\n",
      "File \u001b[1;32m~\\AppData\\Local\\Packages\\PythonSoftwareFoundation.Python.3.8_qbz5n2kfra8p0\\LocalCache\\local-packages\\Python38\\site-packages\\pandas\\io\\parsers\\readers.py:912\u001b[0m, in \u001b[0;36mread_csv\u001b[1;34m(filepath_or_buffer, sep, delimiter, header, names, index_col, usecols, dtype, engine, converters, true_values, false_values, skipinitialspace, skiprows, skipfooter, nrows, na_values, keep_default_na, na_filter, verbose, skip_blank_lines, parse_dates, infer_datetime_format, keep_date_col, date_parser, date_format, dayfirst, cache_dates, iterator, chunksize, compression, thousands, decimal, lineterminator, quotechar, quoting, doublequote, escapechar, comment, encoding, encoding_errors, dialect, on_bad_lines, delim_whitespace, low_memory, memory_map, float_precision, storage_options, dtype_backend)\u001b[0m\n\u001b[0;32m    899\u001b[0m kwds_defaults \u001b[38;5;241m=\u001b[39m _refine_defaults_read(\n\u001b[0;32m    900\u001b[0m     dialect,\n\u001b[0;32m    901\u001b[0m     delimiter,\n\u001b[1;32m   (...)\u001b[0m\n\u001b[0;32m    908\u001b[0m     dtype_backend\u001b[38;5;241m=\u001b[39mdtype_backend,\n\u001b[0;32m    909\u001b[0m )\n\u001b[0;32m    910\u001b[0m kwds\u001b[38;5;241m.\u001b[39mupdate(kwds_defaults)\n\u001b[1;32m--> 912\u001b[0m \u001b[38;5;28;01mreturn\u001b[39;00m \u001b[43m_read\u001b[49m\u001b[43m(\u001b[49m\u001b[43mfilepath_or_buffer\u001b[49m\u001b[43m,\u001b[49m\u001b[43m \u001b[49m\u001b[43mkwds\u001b[49m\u001b[43m)\u001b[49m\n",
      "File \u001b[1;32m~\\AppData\\Local\\Packages\\PythonSoftwareFoundation.Python.3.8_qbz5n2kfra8p0\\LocalCache\\local-packages\\Python38\\site-packages\\pandas\\io\\parsers\\readers.py:577\u001b[0m, in \u001b[0;36m_read\u001b[1;34m(filepath_or_buffer, kwds)\u001b[0m\n\u001b[0;32m    574\u001b[0m _validate_names(kwds\u001b[38;5;241m.\u001b[39mget(\u001b[38;5;124m\"\u001b[39m\u001b[38;5;124mnames\u001b[39m\u001b[38;5;124m\"\u001b[39m, \u001b[38;5;28;01mNone\u001b[39;00m))\n\u001b[0;32m    576\u001b[0m \u001b[38;5;66;03m# Create the parser.\u001b[39;00m\n\u001b[1;32m--> 577\u001b[0m parser \u001b[38;5;241m=\u001b[39m \u001b[43mTextFileReader\u001b[49m\u001b[43m(\u001b[49m\u001b[43mfilepath_or_buffer\u001b[49m\u001b[43m,\u001b[49m\u001b[43m \u001b[49m\u001b[38;5;241;43m*\u001b[39;49m\u001b[38;5;241;43m*\u001b[39;49m\u001b[43mkwds\u001b[49m\u001b[43m)\u001b[49m\n\u001b[0;32m    579\u001b[0m \u001b[38;5;28;01mif\u001b[39;00m chunksize \u001b[38;5;129;01mor\u001b[39;00m iterator:\n\u001b[0;32m    580\u001b[0m     \u001b[38;5;28;01mreturn\u001b[39;00m parser\n",
      "File \u001b[1;32m~\\AppData\\Local\\Packages\\PythonSoftwareFoundation.Python.3.8_qbz5n2kfra8p0\\LocalCache\\local-packages\\Python38\\site-packages\\pandas\\io\\parsers\\readers.py:1407\u001b[0m, in \u001b[0;36mTextFileReader.__init__\u001b[1;34m(self, f, engine, **kwds)\u001b[0m\n\u001b[0;32m   1404\u001b[0m     \u001b[38;5;28mself\u001b[39m\u001b[38;5;241m.\u001b[39moptions[\u001b[38;5;124m\"\u001b[39m\u001b[38;5;124mhas_index_names\u001b[39m\u001b[38;5;124m\"\u001b[39m] \u001b[38;5;241m=\u001b[39m kwds[\u001b[38;5;124m\"\u001b[39m\u001b[38;5;124mhas_index_names\u001b[39m\u001b[38;5;124m\"\u001b[39m]\n\u001b[0;32m   1406\u001b[0m \u001b[38;5;28mself\u001b[39m\u001b[38;5;241m.\u001b[39mhandles: IOHandles \u001b[38;5;241m|\u001b[39m \u001b[38;5;28;01mNone\u001b[39;00m \u001b[38;5;241m=\u001b[39m \u001b[38;5;28;01mNone\u001b[39;00m\n\u001b[1;32m-> 1407\u001b[0m \u001b[38;5;28mself\u001b[39m\u001b[38;5;241m.\u001b[39m_engine \u001b[38;5;241m=\u001b[39m \u001b[38;5;28;43mself\u001b[39;49m\u001b[38;5;241;43m.\u001b[39;49m\u001b[43m_make_engine\u001b[49m\u001b[43m(\u001b[49m\u001b[43mf\u001b[49m\u001b[43m,\u001b[49m\u001b[43m \u001b[49m\u001b[38;5;28;43mself\u001b[39;49m\u001b[38;5;241;43m.\u001b[39;49m\u001b[43mengine\u001b[49m\u001b[43m)\u001b[49m\n",
      "File \u001b[1;32m~\\AppData\\Local\\Packages\\PythonSoftwareFoundation.Python.3.8_qbz5n2kfra8p0\\LocalCache\\local-packages\\Python38\\site-packages\\pandas\\io\\parsers\\readers.py:1661\u001b[0m, in \u001b[0;36mTextFileReader._make_engine\u001b[1;34m(self, f, engine)\u001b[0m\n\u001b[0;32m   1659\u001b[0m     \u001b[38;5;28;01mif\u001b[39;00m \u001b[38;5;124m\"\u001b[39m\u001b[38;5;124mb\u001b[39m\u001b[38;5;124m\"\u001b[39m \u001b[38;5;129;01mnot\u001b[39;00m \u001b[38;5;129;01min\u001b[39;00m mode:\n\u001b[0;32m   1660\u001b[0m         mode \u001b[38;5;241m+\u001b[39m\u001b[38;5;241m=\u001b[39m \u001b[38;5;124m\"\u001b[39m\u001b[38;5;124mb\u001b[39m\u001b[38;5;124m\"\u001b[39m\n\u001b[1;32m-> 1661\u001b[0m \u001b[38;5;28mself\u001b[39m\u001b[38;5;241m.\u001b[39mhandles \u001b[38;5;241m=\u001b[39m \u001b[43mget_handle\u001b[49m\u001b[43m(\u001b[49m\n\u001b[0;32m   1662\u001b[0m \u001b[43m    \u001b[49m\u001b[43mf\u001b[49m\u001b[43m,\u001b[49m\n\u001b[0;32m   1663\u001b[0m \u001b[43m    \u001b[49m\u001b[43mmode\u001b[49m\u001b[43m,\u001b[49m\n\u001b[0;32m   1664\u001b[0m \u001b[43m    \u001b[49m\u001b[43mencoding\u001b[49m\u001b[38;5;241;43m=\u001b[39;49m\u001b[38;5;28;43mself\u001b[39;49m\u001b[38;5;241;43m.\u001b[39;49m\u001b[43moptions\u001b[49m\u001b[38;5;241;43m.\u001b[39;49m\u001b[43mget\u001b[49m\u001b[43m(\u001b[49m\u001b[38;5;124;43m\"\u001b[39;49m\u001b[38;5;124;43mencoding\u001b[39;49m\u001b[38;5;124;43m\"\u001b[39;49m\u001b[43m,\u001b[49m\u001b[43m \u001b[49m\u001b[38;5;28;43;01mNone\u001b[39;49;00m\u001b[43m)\u001b[49m\u001b[43m,\u001b[49m\n\u001b[0;32m   1665\u001b[0m \u001b[43m    \u001b[49m\u001b[43mcompression\u001b[49m\u001b[38;5;241;43m=\u001b[39;49m\u001b[38;5;28;43mself\u001b[39;49m\u001b[38;5;241;43m.\u001b[39;49m\u001b[43moptions\u001b[49m\u001b[38;5;241;43m.\u001b[39;49m\u001b[43mget\u001b[49m\u001b[43m(\u001b[49m\u001b[38;5;124;43m\"\u001b[39;49m\u001b[38;5;124;43mcompression\u001b[39;49m\u001b[38;5;124;43m\"\u001b[39;49m\u001b[43m,\u001b[49m\u001b[43m \u001b[49m\u001b[38;5;28;43;01mNone\u001b[39;49;00m\u001b[43m)\u001b[49m\u001b[43m,\u001b[49m\n\u001b[0;32m   1666\u001b[0m \u001b[43m    \u001b[49m\u001b[43mmemory_map\u001b[49m\u001b[38;5;241;43m=\u001b[39;49m\u001b[38;5;28;43mself\u001b[39;49m\u001b[38;5;241;43m.\u001b[39;49m\u001b[43moptions\u001b[49m\u001b[38;5;241;43m.\u001b[39;49m\u001b[43mget\u001b[49m\u001b[43m(\u001b[49m\u001b[38;5;124;43m\"\u001b[39;49m\u001b[38;5;124;43mmemory_map\u001b[39;49m\u001b[38;5;124;43m\"\u001b[39;49m\u001b[43m,\u001b[49m\u001b[43m \u001b[49m\u001b[38;5;28;43;01mFalse\u001b[39;49;00m\u001b[43m)\u001b[49m\u001b[43m,\u001b[49m\n\u001b[0;32m   1667\u001b[0m \u001b[43m    \u001b[49m\u001b[43mis_text\u001b[49m\u001b[38;5;241;43m=\u001b[39;49m\u001b[43mis_text\u001b[49m\u001b[43m,\u001b[49m\n\u001b[0;32m   1668\u001b[0m \u001b[43m    \u001b[49m\u001b[43merrors\u001b[49m\u001b[38;5;241;43m=\u001b[39;49m\u001b[38;5;28;43mself\u001b[39;49m\u001b[38;5;241;43m.\u001b[39;49m\u001b[43moptions\u001b[49m\u001b[38;5;241;43m.\u001b[39;49m\u001b[43mget\u001b[49m\u001b[43m(\u001b[49m\u001b[38;5;124;43m\"\u001b[39;49m\u001b[38;5;124;43mencoding_errors\u001b[39;49m\u001b[38;5;124;43m\"\u001b[39;49m\u001b[43m,\u001b[49m\u001b[43m \u001b[49m\u001b[38;5;124;43m\"\u001b[39;49m\u001b[38;5;124;43mstrict\u001b[39;49m\u001b[38;5;124;43m\"\u001b[39;49m\u001b[43m)\u001b[49m\u001b[43m,\u001b[49m\n\u001b[0;32m   1669\u001b[0m \u001b[43m    \u001b[49m\u001b[43mstorage_options\u001b[49m\u001b[38;5;241;43m=\u001b[39;49m\u001b[38;5;28;43mself\u001b[39;49m\u001b[38;5;241;43m.\u001b[39;49m\u001b[43moptions\u001b[49m\u001b[38;5;241;43m.\u001b[39;49m\u001b[43mget\u001b[49m\u001b[43m(\u001b[49m\u001b[38;5;124;43m\"\u001b[39;49m\u001b[38;5;124;43mstorage_options\u001b[39;49m\u001b[38;5;124;43m\"\u001b[39;49m\u001b[43m,\u001b[49m\u001b[43m \u001b[49m\u001b[38;5;28;43;01mNone\u001b[39;49;00m\u001b[43m)\u001b[49m\u001b[43m,\u001b[49m\n\u001b[0;32m   1670\u001b[0m \u001b[43m\u001b[49m\u001b[43m)\u001b[49m\n\u001b[0;32m   1671\u001b[0m \u001b[38;5;28;01massert\u001b[39;00m \u001b[38;5;28mself\u001b[39m\u001b[38;5;241m.\u001b[39mhandles \u001b[38;5;129;01mis\u001b[39;00m \u001b[38;5;129;01mnot\u001b[39;00m \u001b[38;5;28;01mNone\u001b[39;00m\n\u001b[0;32m   1672\u001b[0m f \u001b[38;5;241m=\u001b[39m \u001b[38;5;28mself\u001b[39m\u001b[38;5;241m.\u001b[39mhandles\u001b[38;5;241m.\u001b[39mhandle\n",
      "File \u001b[1;32m~\\AppData\\Local\\Packages\\PythonSoftwareFoundation.Python.3.8_qbz5n2kfra8p0\\LocalCache\\local-packages\\Python38\\site-packages\\pandas\\io\\common.py:859\u001b[0m, in \u001b[0;36mget_handle\u001b[1;34m(path_or_buf, mode, encoding, compression, memory_map, is_text, errors, storage_options)\u001b[0m\n\u001b[0;32m    854\u001b[0m \u001b[38;5;28;01melif\u001b[39;00m \u001b[38;5;28misinstance\u001b[39m(handle, \u001b[38;5;28mstr\u001b[39m):\n\u001b[0;32m    855\u001b[0m     \u001b[38;5;66;03m# Check whether the filename is to be opened in binary mode.\u001b[39;00m\n\u001b[0;32m    856\u001b[0m     \u001b[38;5;66;03m# Binary mode does not support 'encoding' and 'newline'.\u001b[39;00m\n\u001b[0;32m    857\u001b[0m     \u001b[38;5;28;01mif\u001b[39;00m ioargs\u001b[38;5;241m.\u001b[39mencoding \u001b[38;5;129;01mand\u001b[39;00m \u001b[38;5;124m\"\u001b[39m\u001b[38;5;124mb\u001b[39m\u001b[38;5;124m\"\u001b[39m \u001b[38;5;129;01mnot\u001b[39;00m \u001b[38;5;129;01min\u001b[39;00m ioargs\u001b[38;5;241m.\u001b[39mmode:\n\u001b[0;32m    858\u001b[0m         \u001b[38;5;66;03m# Encoding\u001b[39;00m\n\u001b[1;32m--> 859\u001b[0m         handle \u001b[38;5;241m=\u001b[39m \u001b[38;5;28;43mopen\u001b[39;49m\u001b[43m(\u001b[49m\n\u001b[0;32m    860\u001b[0m \u001b[43m            \u001b[49m\u001b[43mhandle\u001b[49m\u001b[43m,\u001b[49m\n\u001b[0;32m    861\u001b[0m \u001b[43m            \u001b[49m\u001b[43mioargs\u001b[49m\u001b[38;5;241;43m.\u001b[39;49m\u001b[43mmode\u001b[49m\u001b[43m,\u001b[49m\n\u001b[0;32m    862\u001b[0m \u001b[43m            \u001b[49m\u001b[43mencoding\u001b[49m\u001b[38;5;241;43m=\u001b[39;49m\u001b[43mioargs\u001b[49m\u001b[38;5;241;43m.\u001b[39;49m\u001b[43mencoding\u001b[49m\u001b[43m,\u001b[49m\n\u001b[0;32m    863\u001b[0m \u001b[43m            \u001b[49m\u001b[43merrors\u001b[49m\u001b[38;5;241;43m=\u001b[39;49m\u001b[43merrors\u001b[49m\u001b[43m,\u001b[49m\n\u001b[0;32m    864\u001b[0m \u001b[43m            \u001b[49m\u001b[43mnewline\u001b[49m\u001b[38;5;241;43m=\u001b[39;49m\u001b[38;5;124;43m\"\u001b[39;49m\u001b[38;5;124;43m\"\u001b[39;49m\u001b[43m,\u001b[49m\n\u001b[0;32m    865\u001b[0m \u001b[43m        \u001b[49m\u001b[43m)\u001b[49m\n\u001b[0;32m    866\u001b[0m     \u001b[38;5;28;01melse\u001b[39;00m:\n\u001b[0;32m    867\u001b[0m         \u001b[38;5;66;03m# Binary mode\u001b[39;00m\n\u001b[0;32m    868\u001b[0m         handle \u001b[38;5;241m=\u001b[39m \u001b[38;5;28mopen\u001b[39m(handle, ioargs\u001b[38;5;241m.\u001b[39mmode)\n",
      "\u001b[1;31mFileNotFoundError\u001b[0m: [Errno 2] No such file or directory: 'ratings.csv'"
     ]
    }
   ],
   "source": [
    "\n",
    "# Load the ratings dataset\n",
    "ratings_df = pd.read_csv('ratings.csv', \n",
    "                         sep='::', \n",
    "                         names=['UserID', 'MovieID', 'Rating', 'Timestamp'], \n",
    "                         engine='python')\n",
    "\n",
    "\n"
   ]
  },
  {
   "cell_type": "code",
   "execution_count": 22,
   "metadata": {},
   "outputs": [
    {
     "name": "stdout",
     "output_type": "stream",
     "text": [
      "Number of rows to be removed: 0\n",
      "   UserID  MovieID  Rating  Timestamp\n",
      "0       1     1193       5  978300760\n",
      "1       1      661       3  978302109\n",
      "2       1      914       3  978301968\n",
      "3       1     3408       4  978300275\n",
      "4       1     2355       5  978824291\n"
     ]
    }
   ],
   "source": [
    "# Ensure both MovieID columns are the same data type (e.g., integer)\n",
    "ratings_df['MovieID'] = ratings_df['MovieID'].astype(int)\n",
    "movies_df['MovieID'] = movies_df['MovieID'].astype(int)\n",
    "\n",
    "# Identify the MovieIDs that are in ratings_df but not in movies_df\n",
    "missing_movie_ids = ratings_df[~ratings_df['MovieID'].isin(movies_df['MovieID'])]\n",
    "\n",
    "# Check how many rows will be removed\n",
    "print(f\"Number of rows to be removed: {missing_movie_ids.shape[0]}\")\n",
    "\n",
    "# Remove rows from ratings_df where MovieID is missing in movies_df\n",
    "ratings_df_cleaned = ratings_df[ratings_df['MovieID'].isin(movies_df['MovieID'])]\n",
    "\n",
    "# Optionally, reset the index if needed\n",
    "ratings_df_cleaned.reset_index(drop=True, inplace=True)\n",
    "\n",
    "# Print the cleaned dataframe\n",
    "print(ratings_df_cleaned.head())\n"
   ]
  },
  {
   "cell_type": "markdown",
   "metadata": {},
   "source": [
    "\n",
    "Understanding data"
   ]
  },
  {
   "cell_type": "code",
   "execution_count": 3,
   "metadata": {},
   "outputs": [
    {
     "name": "stdout",
     "output_type": "stream",
     "text": [
      "Number of users under 18: 222\n",
      "UserID        0\n",
      "Gender        0\n",
      "Age           0\n",
      "Occupation    0\n",
      "Zip-code      0\n",
      "dtype: int64\n",
      "MovieID    0\n",
      "Title      0\n",
      "Genres     0\n",
      "dtype: int64\n",
      "UserID       0\n",
      "MovieID      0\n",
      "Rating       0\n",
      "Timestamp    0\n",
      "dtype: int64\n"
     ]
    }
   ],
   "source": [
    "# Count the number of users whose age is less than 18\n",
    "under_18_count = (users_df[\"Age\"] < 18).sum()\n",
    "print(f\"Number of users under 18: {under_18_count}\")\n",
    "\n",
    "# Check for missing values in each column\n",
    "missing_data = users_df.isnull().sum()\n",
    "print(missing_data)\n",
    "# Check for missing values in each column\n",
    "missing_data = movies_df.isnull().sum()\n",
    "print(missing_data)\n",
    "# Check for missing values in each column\n",
    "missing_data = ratings_df.isnull().sum()\n",
    "print(missing_data)\n",
    "\n"
   ]
  },
  {
   "cell_type": "code",
   "execution_count": 23,
   "metadata": {},
   "outputs": [
    {
     "data": {
      "text/html": [
       "<div>\n",
       "<style scoped>\n",
       "    .dataframe tbody tr th:only-of-type {\n",
       "        vertical-align: middle;\n",
       "    }\n",
       "\n",
       "    .dataframe tbody tr th {\n",
       "        vertical-align: top;\n",
       "    }\n",
       "\n",
       "    .dataframe thead th {\n",
       "        text-align: right;\n",
       "    }\n",
       "</style>\n",
       "<table border=\"1\" class=\"dataframe\">\n",
       "  <thead>\n",
       "    <tr style=\"text-align: right;\">\n",
       "      <th></th>\n",
       "      <th>UserID</th>\n",
       "      <th>Gender</th>\n",
       "      <th>Age</th>\n",
       "      <th>Occupation</th>\n",
       "      <th>Zip-code</th>\n",
       "      <th>Age_Category</th>\n",
       "    </tr>\n",
       "  </thead>\n",
       "  <tbody>\n",
       "    <tr>\n",
       "      <th>0</th>\n",
       "      <td>1</td>\n",
       "      <td>F</td>\n",
       "      <td>1</td>\n",
       "      <td>10</td>\n",
       "      <td>48067</td>\n",
       "      <td>teenager</td>\n",
       "    </tr>\n",
       "    <tr>\n",
       "      <th>1</th>\n",
       "      <td>2</td>\n",
       "      <td>M</td>\n",
       "      <td>56</td>\n",
       "      <td>16</td>\n",
       "      <td>70072</td>\n",
       "      <td>senior</td>\n",
       "    </tr>\n",
       "    <tr>\n",
       "      <th>2</th>\n",
       "      <td>3</td>\n",
       "      <td>M</td>\n",
       "      <td>25</td>\n",
       "      <td>15</td>\n",
       "      <td>55117</td>\n",
       "      <td>earlyadult</td>\n",
       "    </tr>\n",
       "    <tr>\n",
       "      <th>3</th>\n",
       "      <td>4</td>\n",
       "      <td>M</td>\n",
       "      <td>45</td>\n",
       "      <td>7</td>\n",
       "      <td>02460</td>\n",
       "      <td>lateadult</td>\n",
       "    </tr>\n",
       "    <tr>\n",
       "      <th>4</th>\n",
       "      <td>5</td>\n",
       "      <td>M</td>\n",
       "      <td>25</td>\n",
       "      <td>20</td>\n",
       "      <td>55455</td>\n",
       "      <td>earlyadult</td>\n",
       "    </tr>\n",
       "    <tr>\n",
       "      <th>...</th>\n",
       "      <td>...</td>\n",
       "      <td>...</td>\n",
       "      <td>...</td>\n",
       "      <td>...</td>\n",
       "      <td>...</td>\n",
       "      <td>...</td>\n",
       "    </tr>\n",
       "    <tr>\n",
       "      <th>6035</th>\n",
       "      <td>6036</td>\n",
       "      <td>F</td>\n",
       "      <td>25</td>\n",
       "      <td>15</td>\n",
       "      <td>32603</td>\n",
       "      <td>earlyadult</td>\n",
       "    </tr>\n",
       "    <tr>\n",
       "      <th>6036</th>\n",
       "      <td>6037</td>\n",
       "      <td>F</td>\n",
       "      <td>45</td>\n",
       "      <td>1</td>\n",
       "      <td>76006</td>\n",
       "      <td>lateadult</td>\n",
       "    </tr>\n",
       "    <tr>\n",
       "      <th>6037</th>\n",
       "      <td>6038</td>\n",
       "      <td>F</td>\n",
       "      <td>56</td>\n",
       "      <td>1</td>\n",
       "      <td>14706</td>\n",
       "      <td>senior</td>\n",
       "    </tr>\n",
       "    <tr>\n",
       "      <th>6038</th>\n",
       "      <td>6039</td>\n",
       "      <td>F</td>\n",
       "      <td>45</td>\n",
       "      <td>0</td>\n",
       "      <td>01060</td>\n",
       "      <td>lateadult</td>\n",
       "    </tr>\n",
       "    <tr>\n",
       "      <th>6039</th>\n",
       "      <td>6040</td>\n",
       "      <td>M</td>\n",
       "      <td>25</td>\n",
       "      <td>6</td>\n",
       "      <td>11106</td>\n",
       "      <td>earlyadult</td>\n",
       "    </tr>\n",
       "  </tbody>\n",
       "</table>\n",
       "<p>6040 rows × 6 columns</p>\n",
       "</div>"
      ],
      "text/plain": [
       "      UserID Gender  Age  Occupation Zip-code Age_Category\n",
       "0          1      F    1          10    48067     teenager\n",
       "1          2      M   56          16    70072       senior\n",
       "2          3      M   25          15    55117   earlyadult\n",
       "3          4      M   45           7    02460    lateadult\n",
       "4          5      M   25          20    55455   earlyadult\n",
       "...      ...    ...  ...         ...      ...          ...\n",
       "6035    6036      F   25          15    32603   earlyadult\n",
       "6036    6037      F   45           1    76006    lateadult\n",
       "6037    6038      F   56           1    14706       senior\n",
       "6038    6039      F   45           0    01060    lateadult\n",
       "6039    6040      M   25           6    11106   earlyadult\n",
       "\n",
       "[6040 rows x 6 columns]"
      ]
     },
     "execution_count": 23,
     "metadata": {},
     "output_type": "execute_result"
    }
   ],
   "source": [
    "# Define a function to categorize ages with custom labels\n",
    "def categorize_age_with_labels(age):\n",
    "    if age < 18:\n",
    "        return 'teenager'\n",
    "    elif 18 <= age <= 24:\n",
    "        return 'teenager'\n",
    "    elif 25 <= age <= 34:\n",
    "        return 'earlyadult'\n",
    "    elif 35 <= age <= 44:\n",
    "        return 'midadult'\n",
    "    elif 45 <= age <= 49:\n",
    "        return 'lateadult'\n",
    "    elif 50 <= age <= 55:\n",
    "        return 'lateadult'\n",
    "    else:\n",
    "        return 'senior'\n",
    "\n",
    "# Apply the function to the 'Age' column to categorize ages with custom labels\n",
    "users_df['Age_Category'] = users_df['Age'].apply(categorize_age_with_labels)\n",
    "users_df"
   ]
  },
  {
   "cell_type": "code",
   "execution_count": 26,
   "metadata": {},
   "outputs": [
    {
     "data": {
      "image/png": "[encoded data removed]",
      "text/plain": [
       "<Figure size 600x400 with 1 Axes>"
      ]
     },
     "metadata": {},
     "output_type": "display_data"
    }
   ],
   "source": [
    "gender_counts = users_df[\"Gender\"].value_counts()\n",
    "\n",
    "plt.figure(figsize=(6,4))\n",
    "plt.bar(gender_counts.index, gender_counts.values, color=[\"blue\", \"pink\"])\n",
    "plt.xlabel('Gender')\n",
    "plt.ylabel('Count')\n",
    "plt.title('Number of Males and Females in users_df')\n",
    "plt.show()"
   ]
  },
  {
   "cell_type": "code",
   "execution_count": 27,
   "metadata": {},
   "outputs": [
    {
     "data": {
      "image/png": "[encoded data removed]",
      "text/plain": [
       "<Figure size 800x600 with 1 Axes>"
      ]
     },
     "metadata": {},
     "output_type": "display_data"
    }
   ],
   "source": [
    "# Create a histogram to visualize the distribution of ages\n",
    "plt.figure(figsize=(8, 6))\n",
    "plt.hist(users_df[\"Age_Category\"], bins=10, color='green', edgecolor='black')\n",
    "plt.xlabel('Age_category')\n",
    "plt.ylabel('Frequency')\n",
    "plt.title('Age Distribution in users_df')\n",
    "plt.show()"
   ]
  },
  {
   "cell_type": "code",
   "execution_count": 28,
   "metadata": {},
   "outputs": [
    {
     "data": {
      "image/png": "[encoded data removed]",
      "text/plain": [
       "<Figure size 800x600 with 1 Axes>"
      ]
     },
     "metadata": {},
     "output_type": "display_data"
    }
   ],
   "source": [
    "# Create a histogram to visualize the distribution of ratings\n",
    "plt.figure(figsize=(8, 6))\n",
    "plt.hist(ratings_df[\"Rating\"], bins=10, color='yellow', edgecolor='black')\n",
    "plt.xlabel('Rating')\n",
    "plt.ylabel('Frequency')\n",
    "plt.title('Rating Distribution in ratings_df')\n",
    "plt.show()"
   ]
  },
  {
   "cell_type": "code",
   "execution_count": 42,
   "metadata": {},
   "outputs": [
    {
     "data": {
      "text/plain": [
       "(3883, 3)"
      ]
     },
     "execution_count": 42,
     "metadata": {},
     "output_type": "execute_result"
    }
   ],
   "source": []
  },
  {
   "cell_type": "markdown",
   "metadata": {},
   "source": [
    "Data preprocessing"
   ]
  },
  {
   "cell_type": "code",
   "execution_count": 24,
   "metadata": {},
   "outputs": [
    {
     "name": "stdout",
     "output_type": "stream",
     "text": [
      "(5818, 6)\n"
     ]
    }
   ],
   "source": [
    "# Remove any user with younger than 14\n",
    "users_df = users_df[users_df[\"Age\"] > 14]\n",
    "print(users_df.shape)\n"
   ]
  },
  {
   "cell_type": "code",
   "execution_count": 35,
   "metadata": {},
   "outputs": [
    {
     "name": "stdout",
     "output_type": "stream",
     "text": [
      "   UserID Gender         Occupation Age_Category  MovieID  Rating  \\\n",
      "0       2      M      self-employed       senior     1357       5   \n",
      "1       8      M         programmer   earlyadult     1357       4   \n",
      "2      10      F  academic/educator     midadult     1357       5   \n",
      "3      18      F     clerical/admin     teenager     1357       5   \n",
      "4      33      M     clerical/admin    lateadult     1357       4   \n",
      "\n",
      "          Title         Genres  \n",
      "0  Shine (1996)  Drama|Romance  \n",
      "1  Shine (1996)  Drama|Romance  \n",
      "2  Shine (1996)  Drama|Romance  \n",
      "3  Shine (1996)  Drama|Romance  \n",
      "4  Shine (1996)  Drama|Romance  \n"
     ]
    }
   ],
   "source": [
    "# Combine users_df with ratings_df on 'UserID'\n",
    "user_ratings_df = pd.merge(users_df, ratings_df, on='UserID')\n",
    "\n",
    "# Combine the resulting dataframe with movies_df on 'MovieID'\n",
    "recommendation_df = pd.merge(user_ratings_df, movies_df, on='MovieID')\n",
    "\n",
    "# Remove the 'Timestamp', 'Zip-code', 'MovieID', and 'UserID' columns\n",
    "recommendation_df = recommendation_df.drop(columns=['Timestamp', 'Zip-code', 'Age'])\n",
    "# Create a dictionary that maps occupation codes to their corresponding descriptions\n",
    "occupation_mapping = {\n",
    "    0: \"other or not specified\",\n",
    "    1: \"academic/educator\",\n",
    "    2: \"artist\",\n",
    "    3: \"clerical/admin\",\n",
    "    4: \"college/grad student\",\n",
    "    5: \"customer service\",\n",
    "    6: \"doctor/health care\",\n",
    "    7: \"executive/managerial\",\n",
    "    8: \"farmer\",\n",
    "    9: \"homemaker\",\n",
    "    10: \"K-12 student\",\n",
    "    11: \"lawyer\",\n",
    "    12: \"programmer\",\n",
    "    13: \"retired\",\n",
    "    14: \"sales/marketing\",\n",
    "    15: \"scientist\",\n",
    "    16: \"self-employed\",\n",
    "    17: \"technician/engineer\",\n",
    "    18: \"tradesman/craftsman\",\n",
    "    19: \"unemployed\",\n",
    "    20: \"writer\"\n",
    "}\n",
    "\n",
    "# Apply the mapping to the 'Occupation' column in the recommendation_df\n",
    "recommendation_df['Occupation'] = recommendation_df['Occupation'].map(occupation_mapping)\n",
    "\n",
    "# Check the first few rows to verify the change\n",
    "print(recommendation_df.head())\n",
    "\n",
    "\n"
   ]
  },
  {
   "cell_type": "code",
   "execution_count": 36,
   "metadata": {},
   "outputs": [
    {
     "name": "stdout",
     "output_type": "stream",
     "text": [
      "Empty DataFrame\n",
      "Columns: [MovieID, Title, Genres]\n",
      "Index: []\n",
      "Empty DataFrame\n",
      "Columns: [MovieID, Title, Genres]\n",
      "Index: []\n"
     ]
    }
   ],
   "source": [
    "duplicates = movies_df[movies_df.duplicated(subset='MovieID', keep=False)]\n",
    "print(duplicates)\n",
    "missing_titles = movies_df[movies_df['Title'].isna()]\n",
    "print(missing_titles)\n"
   ]
  },
  {
   "cell_type": "code",
   "execution_count": null,
   "metadata": {},
   "outputs": [],
   "source": []
  },
  {
   "cell_type": "markdown",
   "metadata": {},
   "source": [
    "1. Collaborative Filtering"
   ]
  },
  {
   "cell_type": "code",
   "execution_count": 37,
   "metadata": {},
   "outputs": [
    {
     "name": "stderr",
     "output_type": "stream",
     "text": [
      "C:\\Users\\alfem\\AppData\\Local\\Packages\\PythonSoftwareFoundation.Python.3.8_qbz5n2kfra8p0\\LocalCache\\local-packages\\Python38\\site-packages\\implicit\\utils.py:164: ParameterWarning: Method expects CSR input, and was passed csc_matrix instead. Converting to CSR took 0.006533622741699219 seconds\n",
      "  warnings.warn(\n",
      "100%|██████████| 20/20 [00:05<00:00,  3.46it/s]\n"
     ]
    },
    {
     "name": "stdout",
     "output_type": "stream",
     "text": [
      "RMSE: 3.6851576958039645\n"
     ]
    }
   ],
   "source": [
    "\n",
    "user_movie_matrix = recommendation_df.pivot(index='UserID', columns='MovieID', values='Rating').fillna(0)\n",
    "\n",
    "# Convert the interaction matrix to a sparse matrix (CSR format)\n",
    "sparse_user_movie_matrix = csr_matrix(user_movie_matrix.values)\n",
    "\n",
    "# Train-test split\n",
    "train_data, test_data = train_test_split(recommendation_df, test_size=0.2, random_state=42)\n",
    "\n",
    "# Create the training user-item matrix\n",
    "train_user_movie_matrix = train_data.pivot(index='UserID', columns='MovieID', values='Rating').fillna(0)\n",
    "sparse_train_user_movie_matrix = csr_matrix(train_user_movie_matrix.values)\n",
    "\n",
    "# Initialize the ALS model\n",
    "als_model = implicit.als.AlternatingLeastSquares(factors=50, regularization=0.1, iterations=20)\n",
    "\n",
    "# Fit the model on the training data\n",
    "als_model.fit(sparse_train_user_movie_matrix.T)  # Note the transpose .T\n",
    "\n",
    "# Get the latent factors after training\n",
    "user_factors = als_model.user_factors\n",
    "item_factors = als_model.item_factors\n",
    "\n",
    "# Define a function to predict the rating for a specific user and movie\n",
    "def predict_rating(user_id, movie_id):\n",
    "    # Ensure that the user and movie IDs are within bounds\n",
    "    if user_id < len(user_factors) and movie_id < len(item_factors):\n",
    "        return np.dot(user_factors[user_id], item_factors[movie_id])\n",
    "    else:\n",
    "        return np.nan  # Return NaN if the user or movie isn't in the matrix\n",
    "\n",
    "# Predict the ratings for the test set\n",
    "predicted_ratings = []\n",
    "actual_ratings = []\n",
    "\n",
    "for i in range(len(test_data)):\n",
    "    user_id = test_data.iloc[i]['UserID'] - 1  # Subtract 1 if IDs are 1-indexed in your data\n",
    "    movie_id = test_data.iloc[i]['MovieID'] - 1  # Subtract 1 if IDs are 1-indexed\n",
    "    actual_rating = test_data.iloc[i]['Rating']\n",
    "    \n",
    "    predicted_rating = predict_rating(user_id, movie_id)\n",
    "    \n",
    "    if not np.isnan(predicted_rating):  # Only consider valid predictions\n",
    "        predicted_ratings.append(predicted_rating)\n",
    "        actual_ratings.append(actual_rating)\n",
    "\n",
    "# Compute the RMSE\n",
    "mse = mean_squared_error(actual_ratings, predicted_ratings)\n",
    "rmse = np.sqrt(mse)\n",
    "print(f\"RMSE: {rmse}\")\n",
    "\n"
   ]
  },
  {
   "cell_type": "code",
   "execution_count": 8,
   "metadata": {},
   "outputs": [],
   "source": [
    "user_movie_matrix = recommendation_df.pivot(index='UserID', columns='MovieID',  values='Rating')\n",
    "\n",
    "user_movie_matrix = user_movie_matrix.fillna(0)\n",
    "\n",
    "sparse_user_movie_matrix = csr_matrix(user_movie_matrix.values)\n",
    "\n"
   ]
  },
  {
   "cell_type": "code",
   "execution_count": 82,
   "metadata": {},
   "outputs": [
    {
     "name": "stdout",
     "output_type": "stream",
     "text": [
      "(5818, 3702)\n",
      "(5818, 3702)\n"
     ]
    }
   ],
   "source": [
    "print(user_movie_matrix.shape)\n",
    "\n",
    "print(sparse_user_movie_matrix.shape)"
   ]
  },
  {
   "cell_type": "code",
   "execution_count": 9,
   "metadata": {},
   "outputs": [
    {
     "name": "stderr",
     "output_type": "stream",
     "text": [
      "C:\\Users\\alfem\\AppData\\Local\\Packages\\PythonSoftwareFoundation.Python.3.8_qbz5n2kfra8p0\\LocalCache\\local-packages\\Python38\\site-packages\\implicit\\cpu\\als.py:95: RuntimeWarning: OpenBLAS is configured to use 8 threads. It is highly recommended to disable its internal threadpool by setting the environment variable 'OPENBLAS_NUM_THREADS=1' or by calling 'threadpoolctl.threadpool_limits(1, \"blas\")'. Having OpenBLAS use a threadpool can lead to severe performance issues here.\n",
      "  check_blas_config()\n",
      "C:\\Users\\alfem\\AppData\\Local\\Packages\\PythonSoftwareFoundation.Python.3.8_qbz5n2kfra8p0\\LocalCache\\local-packages\\Python38\\site-packages\\implicit\\utils.py:164: ParameterWarning: Method expects CSR input, and was passed csc_matrix instead. Converting to CSR took 0.01228785514831543 seconds\n",
      "  warnings.warn(\n",
      "100%|██████████| 20/20 [00:05<00:00,  3.37it/s]\n"
     ]
    }
   ],
   "source": [
    "np.random.seed(42)\n",
    "\n",
    "# ALS model initialization with fixed parameters\n",
    "als_model = implicit.als.AlternatingLeastSquares(factors=50, regularization=0.1, iterations=20, random_state=42)\n",
    "\n",
    "# Fit the model\n",
    "als_model.fit(sparse_user_movie_matrix.T)\n",
    "\n",
    "\n",
    "user_factors = als_model.user_factors\n",
    "item_factors = als_model.item_factors\n",
    "\n"
   ]
  },
  {
   "cell_type": "code",
   "execution_count": 10,
   "metadata": {},
   "outputs": [
    {
     "name": "stdout",
     "output_type": "stream",
     "text": [
      "(3702, 50)\n",
      "(5818, 50)\n"
     ]
    }
   ],
   "source": [
    "print(user_factors.shape)\n",
    "print(item_factors.shape)"
   ]
  },
  {
   "cell_type": "code",
   "execution_count": 11,
   "metadata": {},
   "outputs": [
    {
     "name": "stdout",
     "output_type": "stream",
     "text": [
      "[ 0.7366421   2.4496806   2.992107    0.5214765   3.1219742   2.2870393\n",
      "  3.0463676   0.4514714   1.1442128   1.8244832   5.4125514   3.0176077\n",
      "  0.10885317  4.7432666   3.2208319   2.4286032   4.600391    0.84551454\n",
      "  1.6936253   0.8246323   5.756264    3.372149    1.9997407   1.4717408\n",
      "  1.7049394   1.914825    2.1527977   3.1264765   3.6847174   1.9998668\n",
      "  1.8425488   3.630234    2.2241304   3.1709545   2.0043619  -0.74195427\n",
      "  0.9093261   1.5273421  -0.0596091   3.5396278   2.1841998   2.3883479\n",
      "  2.1599455   2.1214101   0.9651468   2.6863143   1.4099361   4.4705453\n",
      "  3.4412506   1.9032372 ]\n",
      "[-0.03151038  0.04371999  0.00827599  0.01317375  0.01630399  0.01486648\n",
      " -0.00124265  0.01858744 -0.00497697  0.00172473  0.01930789 -0.04839942\n",
      " -0.00600327  0.04352735  0.02570378  0.07509602 -0.00644922  0.01172651\n",
      "  0.00776086  0.0027693  -0.02774781 -0.01624118  0.02526522 -0.01825968\n",
      " -0.00077252  0.00583231 -0.0183057   0.04493768  0.04339387 -0.01505444\n",
      " -0.00962784 -0.00150219  0.03793762  0.00635765 -0.00564446  0.07953025\n",
      " -0.00602003  0.02841273 -0.01839238 -0.03711789  0.02031244 -0.06417902\n",
      " -0.03841097  0.04536127  0.00205309  0.02748629  0.01478809  0.01188\n",
      "  0.01192143 -0.02318611]\n",
      "0.6471489\n"
     ]
    }
   ],
   "source": [
    "print(user_factors[0])\n",
    "print(item_factors[0])\n",
    "predicted_rating = np.dot(user_factors[0], item_factors[0])\n",
    "print(predicted_rating)"
   ]
  },
  {
   "cell_type": "code",
   "execution_count": 12,
   "metadata": {},
   "outputs": [
    {
     "name": "stdout",
     "output_type": "stream",
     "text": [
      "MovieID: 710, Score: 1.3415981531143188\n",
      "MovieID: 1982, Score: 1.3393501043319702\n",
      "MovieID: 5669, Score: 1.225120186805725\n",
      "MovieID: 2647, Score: 1.2213480472564697\n",
      "MovieID: 2413, Score: 1.152058720588684\n",
      "Movie: Celtic Pride (1996), MovieID: 710, Score: 1.3415981531143188\n",
      "Movie: Halloween (1978), MovieID: 1982, Score: 1.3393501043319702\n",
      "MovieID: 5669 not found in recommendation_df\n",
      "Movie: House of Frankenstein (1944), MovieID: 2647, Score: 1.2213480472564697\n",
      "Movie: Clue (1985), MovieID: 2413, Score: 1.152058720588684\n"
     ]
    }
   ],
   "source": [
    "# Specify the user ID for recommendations\n",
    "user_id = 2  # A valid user_id in your dataset\n",
    "\n",
    "# Get the user's interaction row (as a sparse matrix row)\n",
    "user_interactions = sparse_user_movie_matrix.getrow(user_id)\n",
    "\n",
    "# Make recommendations by passing the user's interaction matrix\n",
    "recommendations = als_model.recommend(user_id, user_interactions, N=5)\n",
    "# Extract the arrays from the recommendations tuple\n",
    "movie_ids, scores = recommendations\n",
    "\n",
    "# Iterate over both arrays\n",
    "for movie_id, score in zip(movie_ids, scores):\n",
    "    print(f\"MovieID: {movie_id}, Score: {score}\")\n",
    "# Assuming 'recommendation_df' contains 'MovieID' and 'Title' columns\n",
    "for movie_id, score in zip(movie_ids, scores):\n",
    "    # Check if the MovieID exists in recommendation_df\n",
    "    if not recommendation_df[recommendation_df['MovieID'] == movie_id].empty:\n",
    "        movie_title = recommendation_df[recommendation_df['MovieID'] == movie_id]['Title'].values[0]\n",
    "        print(f\"Movie: {movie_title}, MovieID: {movie_id}, Score: {score}\")\n",
    "    else:\n",
    "        print(f\"MovieID: {movie_id} not found in recommendation_df\")\n",
    "\n",
    "\n"
   ]
  },
  {
   "cell_type": "markdown",
   "metadata": {},
   "source": [
    "Making a recommendation to a new user using ALS method\n"
   ]
  },
  {
   "cell_type": "code",
   "execution_count": 19,
   "metadata": {},
   "outputs": [
    {
     "name": "stdout",
     "output_type": "stream",
     "text": [
      "Recommended Movie: Maybe, Maybe Not (Bewegte Mann, Der) (1994), Predicted Rating: 5.0\n",
      "Recommended Movie: Love and Death on Long Island (1997), Predicted Rating: 5.0\n",
      "Recommended Movie: Raging Bull (1980), Predicted Rating: 5.0\n",
      "Recommended Movie: My Life as a Dog (Mitt liv som hund) (1985), Predicted Rating: 4.761585611701417\n",
      "Recommended Movie: Dragonheart (1996), Predicted Rating: 4.7305692794021805\n"
     ]
    },
    {
     "name": "stderr",
     "output_type": "stream",
     "text": [
      "C:\\Users\\alfem\\AppData\\Local\\Temp\\ipykernel_36168\\3755296599.py:12: FutureWarning: `rcond` parameter will change to the default of machine precision times ``max(M, N)`` where M and N are the input matrix dimensions.\n",
      "To use the future default and silence this warning we advise to pass `rcond=None`, to keep using the old, explicitly pass `rcond=-1`.\n",
      "  new_user_factors, _, _, _ = lstsq(rated_item_factors, rated_movie_ratings)\n"
     ]
    }
   ],
   "source": [
    "new_user_ratings = {47: 5, 628: 5}  # {MovieID: Rating}\n",
    "from numpy.linalg import lstsq\n",
    "\n",
    "# Extract the Movie IDs and ratings provided by the new user\n",
    "rated_movie_ids = list(new_user_ratings.keys())\n",
    "rated_movie_ratings = list(new_user_ratings.values())\n",
    "\n",
    "# Get the item (movie) factors for the movies the new user has rated\n",
    "rated_item_factors = item_factors[rated_movie_ids]\n",
    "\n",
    "# Solve for the new user's latent factors using least squares\n",
    "new_user_factors, _, _, _ = lstsq(rated_item_factors, rated_movie_ratings)\n",
    "\n",
    "# Now new_user_factors contains the inferred preferences for this new user\n",
    "# Predict ratings for all movies the new user hasn't rated\n",
    "predicted_ratings = np.dot(new_user_factors, item_factors.T)\n",
    "\n",
    "# Optionally, filter out movies the new user has already rated\n",
    "unseen_movie_ids = [i for i in range(len(item_factors)) if i not in rated_movie_ids]\n",
    "\n",
    "# Get the predicted ratings for only the unseen movies\n",
    "predicted_ratings_for_unseen = predicted_ratings[unseen_movie_ids]\n",
    "\n",
    "# Get the top N recommendations\n",
    "top_movie_ids = np.argsort(predicted_ratings_for_unseen)[::-1][:5]  # Recommend top 5 movies\n",
    "\n",
    "# Map these back to actual MovieIDs\n",
    "recommended_movie_ids = [unseen_movie_ids[i] for i in top_movie_ids]\n",
    "\n",
    "# Assuming movies_df contains 'MovieID' and 'Title' columns\n",
    "for movie_id in recommended_movie_ids:\n",
    "    # Check if the MovieID exists in movies_df\n",
    "    if not movies_df[movies_df['MovieID'] == movie_id].empty:\n",
    "        movie_title = movies_df[movies_df['MovieID'] == movie_id]['Title'].values[0]\n",
    "        \n",
    "        # Clip the predicted rating to be between 1 and 5\n",
    "        clipped_rating = np.clip(predicted_ratings[movie_id], 1, 5)\n",
    "        \n",
    "        print(f\"Recommended Movie: {movie_title}, Predicted Rating: {clipped_rating}\")\n",
    "    else:\n",
    "        print(f\"MovieID {movie_id} not found in movies_df\")\n",
    "\n"
   ]
  }
 ],
 "metadata": {
  "kernelspec": {
   "display_name": "Python 3",
   "language": "python",
   "name": "python3"
  },
  "language_info": {
   "codemirror_mode": {
    "name": "ipython",
    "version": 3
   },
   "file_extension": ".py",
   "mimetype": "text/x-python",
   "name": "python",
   "nbconvert_exporter": "python",
   "pygments_lexer": "ipython3",
   "version": "3.8.10"
  }
 },
 "nbformat": 4,
 "nbformat_minor": 2
}
